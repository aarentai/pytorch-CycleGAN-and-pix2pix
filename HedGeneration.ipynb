{
 "cells": [
  {
   "cell_type": "code",
   "execution_count": 1,
   "metadata": {},
   "outputs": [],
   "source": [
    "import numpy, PIL.Image, torch, scipy, os\n",
    "from utils import *\n",
    "from tqdm import tqdm\n",
    "\n",
    "torch.set_grad_enabled(False) # make sure to not compute gradients for computational performance\n",
    "torch.backends.cudnn.enabled = True # make sure to use cudnn for computational performance\n",
    "\n",
    "# arguments_strModel = 'bsds500' # only 'bsds500' for now"
   ]
  },
  {
   "cell_type": "code",
   "execution_count": 2,
   "metadata": {},
   "outputs": [
    {
     "name": "stderr",
     "output_type": "stream",
     "text": [
      "100%|██████████| 63/63 [01:34<00:00,  1.50s/it]\n"
     ]
    }
   ],
   "source": [
    "input_dir = '/home/ubuntu/hcdai/Projects/Datasets/phtd_raw'\n",
    "output_dir = '/home/ubuntu/hcdai/Projects/Datasets/phtd_hed'\n",
    "file_name_list = os.listdir(input_dir)\n",
    "\n",
    "for i in tqdm(range(len(file_name_list))):\n",
    "    if not file_name_list[i].endswith('.png') and not file_name_list[i].endswith('.jpg'):\n",
    "        continue\n",
    "    img = numpy.array(PIL.Image.open(f'{input_dir}/{file_name_list[i]}'))\n",
    "    img = img[...,:3]\n",
    "    # assert len(img.shape)==3, f'This image has {len(img.shape)} dimensions, while only RGB image is allowed.'\n",
    "    try:\n",
    "        # normalize pixel value between [0,1], permute the tensor to [3, h, w]\n",
    "        input = numpy.ascontiguousarray(img[:, :, ::-1].transpose(2, 0, 1).astype(numpy.float32) * (1.0 / 255.0))\n",
    "        input = torch.FloatTensor(scipy.ndimage.zoom(input, (1, 320/input.shape[1], 480/input.shape[2])))\n",
    "        output = get_hed(input)\n",
    "        # scale back to [0,255], permute the tensor to [h, w, 3]\n",
    "        PIL.Image.fromarray(((1-output.clip(0.0, 1.0).numpy().transpose(1, 2, 0)[:, :, 0]) * 255.0).astype(numpy.uint8)).save(f'{output_dir}/{file_name_list[i]}')\n",
    "    except RuntimeError as e:\n",
    "        print(f'{file_name_list[i]} conversion failed')\n",
    "        continue"
   ]
  }
 ],
 "metadata": {
  "kernelspec": {
   "display_name": "p2p",
   "language": "python",
   "name": "python3"
  },
  "language_info": {
   "codemirror_mode": {
    "name": "ipython",
    "version": 3
   },
   "file_extension": ".py",
   "mimetype": "text/x-python",
   "name": "python",
   "nbconvert_exporter": "python",
   "pygments_lexer": "ipython3",
   "version": "3.8.16"
  },
  "orig_nbformat": 4
 },
 "nbformat": 4,
 "nbformat_minor": 2
}
