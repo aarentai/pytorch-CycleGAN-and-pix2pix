{
 "cells": [
  {
   "cell_type": "code",
   "execution_count": 2,
   "metadata": {},
   "outputs": [],
   "source": [
    "import numpy, PIL.Image, scipy, os\n",
    "from utils import *\n",
    "from tqdm import tqdm"
   ]
  },
  {
   "cell_type": "code",
   "execution_count": 7,
   "metadata": {},
   "outputs": [
    {
     "name": "stderr",
     "output_type": "stream",
     "text": [
      " 66%|██████▌   | 90/137 [00:26<00:13,  3.38it/s]"
     ]
    }
   ],
   "source": [
    "dataset_type = 'ccs'\n",
    "A_dir = f'/home/ubuntu/hcdai/Projects/Datasets/{dataset_type}_hed'\n",
    "B_dir = f'/home/ubuntu/hcdai/Projects/Datasets/{dataset_type}_raw'\n",
    "AB_dir = f'/home/ubuntu/hcdai/Projects/pytorch-CycleGAN-and-pix2pix/datasets/edges2cards/train'\n",
    "file_name_list = os.listdir(A_dir)\n",
    "\n",
    "for i in tqdm(range(len(file_name_list))):\n",
    "    img_AB = numpy.zeros((256,256*2,3))\n",
    "    if not file_name_list[i].endswith('.png') and not file_name_list[i].endswith('.jpg'):\n",
    "        continue\n",
    "    img_A = numpy.array(PIL.Image.open(f'{A_dir}/{file_name_list[i]}').convert('RGB'))\n",
    "    img_B = numpy.array(PIL.Image.open(f'{B_dir}/{file_name_list[i]}').convert('RGB'))\n",
    "    # img = img[...,:3]\n",
    "    # assert len(img.shape)==3, f'This image has {len(img.shape)} dimensions, while only RGB image is allowed.'\n",
    "    img_AB[:,:256,:] = scipy.ndimage.zoom(img_A, (256/img_A.shape[0], 256/img_A.shape[1], 1))\n",
    "    img_AB[:,256:,:] = scipy.ndimage.zoom(img_B, (256/img_B.shape[0], 256/img_B.shape[1], 1))\n",
    "    # scale back to [0,255], permute the tensor to [h, w, 3]\n",
    "    PIL.Image.fromarray(img_AB.astype(numpy.uint8)).save(f'{AB_dir}/{i}_AB.jpg')"
   ]
  },
  {
   "cell_type": "code",
   "execution_count": 5,
   "metadata": {},
   "outputs": [
    {
     "data": {
      "text/plain": [
       "(833, 1111, 3)"
      ]
     },
     "execution_count": 5,
     "metadata": {},
     "output_type": "execute_result"
    }
   ],
   "source": [
    "img_A.shape"
   ]
  }
 ],
 "metadata": {
  "kernelspec": {
   "display_name": "p2p",
   "language": "python",
   "name": "python3"
  },
  "language_info": {
   "codemirror_mode": {
    "name": "ipython",
    "version": 3
   },
   "file_extension": ".py",
   "mimetype": "text/x-python",
   "name": "python",
   "nbconvert_exporter": "python",
   "pygments_lexer": "ipython3",
   "version": "3.8.16"
  },
  "orig_nbformat": 4
 },
 "nbformat": 4,
 "nbformat_minor": 2
}
